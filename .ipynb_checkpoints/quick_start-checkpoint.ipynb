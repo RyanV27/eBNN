{
 "cells": [
  {
   "cell_type": "code",
   "execution_count": 1,
   "id": "f5387382-0c08-4cbd-b963-2a094dc224cf",
   "metadata": {},
   "outputs": [
    {
     "name": "stdout",
     "output_type": "stream",
     "text": [
      "Path:  ['C:\\\\Users\\\\Ryan\\\\Desktop\\\\Final Year Project\\\\ddnn-master\\\\ddnn-master', 'C:\\\\Users\\\\Ryan\\\\anaconda3\\\\python311.zip', 'C:\\\\Users\\\\Ryan\\\\anaconda3\\\\DLLs', 'C:\\\\Users\\\\Ryan\\\\anaconda3\\\\Lib', 'C:\\\\Users\\\\Ryan\\\\anaconda3', '', 'C:\\\\Users\\\\Ryan\\\\anaconda3\\\\Lib\\\\site-packages', 'C:\\\\Users\\\\Ryan\\\\anaconda3\\\\Lib\\\\site-packages\\\\win32', 'C:\\\\Users\\\\Ryan\\\\anaconda3\\\\Lib\\\\site-packages\\\\win32\\\\lib', 'C:\\\\Users\\\\Ryan\\\\anaconda3\\\\Lib\\\\site-packages\\\\Pythonwin', 'C:\\\\Users\\\\Ryan\\\\Desktop\\\\Final Year Project\\\\ddnn-master\\\\ddnn-master\\\\chainer_sequential']\n"
     ]
    }
   ],
   "source": [
    "# Done to allow \"import module_name\" to work\n",
    "import sys\n",
    "# sys.path.insert(1, \"C:\\\\Users\\\\Ryan\\\\Desktop\\\\Final Year Project\\\\ddnn-master\\\\ddnn-master\\\\chainer_sequential\")   # to add path to second position in sys.path\n",
    "# sys.path.append(\"C:\\\\Users\\\\Ryan\\\\Desktop\\\\Final Year Project\\\\ddnn-master\\\\ddnn-master\\\\chainer_sequential\")\n",
    "print(\"Path: \", sys.path)"
   ]
  },
  {
   "cell_type": "code",
   "execution_count": 2,
   "id": "6f533647",
   "metadata": {
    "scrolled": true
   },
   "outputs": [],
   "source": [
    "import os\n",
    "import sys\n",
    "import chainer\n",
    "\n",
    "from elaas.elaas import Collection\n",
    "from elaas.family.binary import BinaryFamily\n",
    "from visualize import visualize\n",
    "import deepopt.chooser"
   ]
  },
  {
   "cell_type": "code",
   "execution_count": 3,
   "id": "4f438c5e-c556-44db-b35f-18b53be5cf71",
   "metadata": {},
   "outputs": [],
   "source": [
    "# Configuration\n",
    "nepochs = 2 # number of epochs\n",
    "out_c_file = \"simple_convpool.h\""
   ]
  },
  {
   "cell_type": "code",
   "execution_count": 4,
   "id": "ef2056a9-b174-477a-8053-576ba35e56b4",
   "metadata": {},
   "outputs": [],
   "source": [
    "# Setup model type (e.g. Binary)\n",
    "trainer = Collection(nepochs=nepochs)\n",
    "trainer.set_model_family(BinaryFamily)"
   ]
  },
  {
   "cell_type": "code",
   "execution_count": 5,
   "id": "ee4bcba3-304c-44cd-9ba8-899b03e81bc2",
   "metadata": {},
   "outputs": [],
   "source": [
    "# Get Dataset\n",
    "train, test = chainer.datasets.get_mnist(ndim=3)\n",
    "trainer.add_trainset(train)\n",
    "trainer.add_testset(test)"
   ]
  },
  {
   "cell_type": "code",
   "execution_count": 6,
   "id": "a8547446-2439-4317-96c3-a8f0cb6436c2",
   "metadata": {
    "scrolled": true
   },
   "outputs": [
    {
     "name": "stdout",
     "output_type": "stream",
     "text": [
      "Train len =  60000\n",
      "Test len =  10000\n"
     ]
    }
   ],
   "source": [
    "print(\"Train len = \", train.__len__())\n",
    "print(\"Test len = \", test.__len__())"
   ]
  },
  {
   "cell_type": "code",
   "execution_count": 7,
   "id": "bbcbc758-05f3-48b2-933c-947bb52cdfdd",
   "metadata": {},
   "outputs": [],
   "source": [
    "# Model parameters\n",
    "trainer.set_searchspace(\n",
    "    nfilters_embeded=[2],\n",
    "    nlayers_embeded=[1],\n",
    "    lr=[1e-3]\n",
    ")"
   ]
  },
  {
   "cell_type": "code",
   "execution_count": 8,
   "id": "c90d6595-2864-4da7-b275-4368c64a12b3",
   "metadata": {},
   "outputs": [
    {
     "name": "stdout",
     "output_type": "stream",
     "text": [
      "Layer:  <chainer_sequential.binary_link.ConvPoolBNBST object at 0x000001D0FE7ACC90> Binary link :  <class 'binary_link.BinaryLink'>\n",
      "isinstance of layer :  False\n"
     ]
    },
    {
     "ename": "Exception",
     "evalue": "",
     "output_type": "error",
     "traceback": [
      "\u001b[1;31m---------------------------------------------------------------------------\u001b[0m",
      "\u001b[1;31mException\u001b[0m                                 Traceback (most recent call last)",
      "Cell \u001b[1;32mIn[8], line 2\u001b[0m\n\u001b[0;32m      1\u001b[0m \u001b[38;5;66;03m# Train model\u001b[39;00m\n\u001b[1;32m----> 2\u001b[0m trainer\u001b[38;5;241m.\u001b[39mtrain()\n",
      "File \u001b[1;32m~\\Desktop\\Final Year Project\\ddnn-master\\ddnn-master\\elaas\\elaas.py:81\u001b[0m, in \u001b[0;36mCollection.train\u001b[1;34m(self, niters, bootstrap_nepochs)\u001b[0m\n\u001b[0;32m     78\u001b[0m \u001b[38;5;28;01mif\u001b[39;00m \u001b[38;5;28mself\u001b[39m\u001b[38;5;241m.\u001b[39mverbose:\n\u001b[0;32m     79\u001b[0m     \u001b[38;5;28mprint\u001b[39m(\u001b[38;5;124m'\u001b[39m\u001b[38;5;124mBootstrap: \u001b[39m\u001b[38;5;132;01m{}\u001b[39;00m\u001b[38;5;124m'\u001b[39m\u001b[38;5;241m.\u001b[39mformat(point))\n\u001b[1;32m---> 81\u001b[0m trainer, model, chain \u001b[38;5;241m=\u001b[39m \u001b[38;5;28mself\u001b[39m\u001b[38;5;241m.\u001b[39mfamily\u001b[38;5;241m.\u001b[39mtrain_model(\u001b[38;5;28mself\u001b[39m\u001b[38;5;241m.\u001b[39mtrainset, \u001b[38;5;28mself\u001b[39m\u001b[38;5;241m.\u001b[39mtestset, \u001b[38;5;241m*\u001b[39m\u001b[38;5;241m*\u001b[39mpoint)\n\u001b[0;32m     83\u001b[0m \u001b[38;5;66;03m# re-evaluate the result, TODO: reeval from previous epoch as well\u001b[39;00m\n\u001b[0;32m     84\u001b[0m result \u001b[38;5;241m=\u001b[39m trainer\u001b[38;5;241m.\u001b[39mevaluate()\n",
      "File \u001b[1;32m~\\Desktop\\Final Year Project\\ddnn-master\\ddnn-master\\elaas\\family\\binary.py:73\u001b[0m, in \u001b[0;36mBinaryFamily.train_model\u001b[1;34m(self, trainset, testset, **kwargs)\u001b[0m\n\u001b[0;32m     72\u001b[0m \u001b[38;5;28;01mdef\u001b[39;00m \u001b[38;5;21mtrain_model\u001b[39m(\u001b[38;5;28mself\u001b[39m, trainset, testset, \u001b[38;5;241m*\u001b[39m\u001b[38;5;241m*\u001b[39mkwargs):\n\u001b[1;32m---> 73\u001b[0m     chain, model \u001b[38;5;241m=\u001b[39m \u001b[38;5;28mself\u001b[39m\u001b[38;5;241m.\u001b[39msetup_chain_model(\u001b[38;5;241m*\u001b[39m\u001b[38;5;241m*\u001b[39mkwargs)\n\u001b[0;32m     75\u001b[0m     nepochs \u001b[38;5;241m=\u001b[39m \u001b[38;5;28mint\u001b[39m(kwargs\u001b[38;5;241m.\u001b[39mget(\u001b[38;5;124m\"\u001b[39m\u001b[38;5;124mnepochs\u001b[39m\u001b[38;5;124m\"\u001b[39m, \u001b[38;5;241m2\u001b[39m))\n\u001b[0;32m     76\u001b[0m     name \u001b[38;5;241m=\u001b[39m \u001b[38;5;28mself\u001b[39m\u001b[38;5;241m.\u001b[39mget_name(\u001b[38;5;241m*\u001b[39m\u001b[38;5;241m*\u001b[39mkwargs)\n",
      "File \u001b[1;32m~\\Desktop\\Final Year Project\\ddnn-master\\ddnn-master\\elaas\\family\\binary.py:51\u001b[0m, in \u001b[0;36mBinaryFamily.setup_chain_model\u001b[1;34m(self, **kwargs)\u001b[0m\n\u001b[0;32m     50\u001b[0m \u001b[38;5;28;01mdef\u001b[39;00m \u001b[38;5;21msetup_chain_model\u001b[39m(\u001b[38;5;28mself\u001b[39m, \u001b[38;5;241m*\u001b[39m\u001b[38;5;241m*\u001b[39mkwargs):\n\u001b[1;32m---> 51\u001b[0m     model \u001b[38;5;241m=\u001b[39m \u001b[38;5;28mself\u001b[39m\u001b[38;5;241m.\u001b[39mgenerate_model(\u001b[38;5;241m*\u001b[39m\u001b[38;5;241m*\u001b[39mkwargs)\n\u001b[0;32m     53\u001b[0m     branchweight \u001b[38;5;241m=\u001b[39m kwargs\u001b[38;5;241m.\u001b[39mget(\u001b[38;5;124m\"\u001b[39m\u001b[38;5;124mbranchweight\u001b[39m\u001b[38;5;124m\"\u001b[39m, \u001b[38;5;241m3\u001b[39m)\n\u001b[0;32m     54\u001b[0m     lr \u001b[38;5;241m=\u001b[39m kwargs\u001b[38;5;241m.\u001b[39mget(\u001b[38;5;124m\"\u001b[39m\u001b[38;5;124mlr\u001b[39m\u001b[38;5;124m\"\u001b[39m, \u001b[38;5;241m0.001\u001b[39m)\n",
      "File \u001b[1;32m~\\Desktop\\Final Year Project\\ddnn-master\\ddnn-master\\elaas\\family\\binary.py:29\u001b[0m, in \u001b[0;36mBinaryFamily.generate_model\u001b[1;34m(self, **kwargs)\u001b[0m\n\u001b[0;32m     27\u001b[0m \u001b[38;5;28;01mif\u001b[39;00m i \u001b[38;5;241m==\u001b[39m \u001b[38;5;241m0\u001b[39m:\n\u001b[0;32m     28\u001b[0m     nfilters \u001b[38;5;241m=\u001b[39m \u001b[38;5;28mself\u001b[39m\u001b[38;5;241m.\u001b[39minput_dims\n\u001b[1;32m---> 29\u001b[0m     model\u001b[38;5;241m.\u001b[39madd(ConvPoolBNBST(nfilters, nfilters_embeded, \u001b[38;5;241m3\u001b[39m, \u001b[38;5;241m1\u001b[39m, \u001b[38;5;241m1\u001b[39m, \u001b[38;5;241m3\u001b[39m, \u001b[38;5;241m1\u001b[39m, \u001b[38;5;241m1\u001b[39m))\n\u001b[0;32m     30\u001b[0m     \u001b[38;5;66;03m# model.add(ConvBNBST(nfilters, nfilters_embeded, 3, 1, 1))\u001b[39;00m\n\u001b[0;32m     31\u001b[0m \u001b[38;5;28;01melse\u001b[39;00m:\n\u001b[0;32m     32\u001b[0m     nfilters \u001b[38;5;241m=\u001b[39m nfilters_embeded\n",
      "File \u001b[1;32m~\\Desktop\\Final Year Project\\ddnn-master\\ddnn-master\\chainer_sequential\\sequential.py:47\u001b[0m, in \u001b[0;36mSequential.add\u001b[1;34m(self, layer)\u001b[0m\n\u001b[0;32m     45\u001b[0m     \u001b[38;5;28mself\u001b[39m\u001b[38;5;241m.\u001b[39m_layers\u001b[38;5;241m.\u001b[39mappend(layer\u001b[38;5;241m.\u001b[39mto_function())\n\u001b[0;32m     46\u001b[0m \u001b[38;5;28;01melse\u001b[39;00m:\n\u001b[1;32m---> 47\u001b[0m     \u001b[38;5;28;01mraise\u001b[39;00m \u001b[38;5;167;01mException\u001b[39;00m()\n",
      "\u001b[1;31mException\u001b[0m: "
     ]
    }
   ],
   "source": [
    "# Train model\n",
    "trainer.train()"
   ]
  },
  {
   "cell_type": "code",
   "execution_count": null,
   "id": "1f76de8f",
   "metadata": {},
   "outputs": [],
   "source": [
    "# generate eBNN C library\n",
    "data_shape = train._datasets[0].shape[1:]\n",
    "trainer.generate_c(out_c_file, data_shape)\n"
   ]
  }
 ],
 "metadata": {
  "kernelspec": {
   "display_name": "Python 3 (ipykernel)",
   "language": "python",
   "name": "python3"
  },
  "language_info": {
   "codemirror_mode": {
    "name": "ipython",
    "version": 3
   },
   "file_extension": ".py",
   "mimetype": "text/x-python",
   "name": "python",
   "nbconvert_exporter": "python",
   "pygments_lexer": "ipython3",
   "version": "3.11.5"
  }
 },
 "nbformat": 4,
 "nbformat_minor": 5
}
