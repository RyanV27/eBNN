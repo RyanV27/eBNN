{
 "cells": [
  {
   "cell_type": "code",
   "execution_count": 1,
   "id": "f5387382-0c08-4cbd-b963-2a094dc224cf",
   "metadata": {},
   "outputs": [
    {
     "name": "stdout",
     "output_type": "stream",
     "text": [
      "Path:  ['C:\\\\Users\\\\Ryan\\\\Desktop\\\\Final Year Project\\\\ddnn-master\\\\ddnn-master', 'C:\\\\Users\\\\Ryan\\\\anaconda3\\\\python311.zip', 'C:\\\\Users\\\\Ryan\\\\anaconda3\\\\DLLs', 'C:\\\\Users\\\\Ryan\\\\anaconda3\\\\Lib', 'C:\\\\Users\\\\Ryan\\\\anaconda3', '', 'C:\\\\Users\\\\Ryan\\\\anaconda3\\\\Lib\\\\site-packages', 'C:\\\\Users\\\\Ryan\\\\anaconda3\\\\Lib\\\\site-packages\\\\win32', 'C:\\\\Users\\\\Ryan\\\\anaconda3\\\\Lib\\\\site-packages\\\\win32\\\\lib', 'C:\\\\Users\\\\Ryan\\\\anaconda3\\\\Lib\\\\site-packages\\\\Pythonwin']\n"
     ]
    }
   ],
   "source": [
    "# Done to allow \"import module_name\" to work\n",
    "import sys\n",
    "# sys.path.insert(1, \"C:\\\\Users\\\\Ryan\\\\Desktop\\\\Final Year Project\\\\ddnn-master\\\\ddnn-master\\\\chainer_sequential\")   # to add path to second position in sys.path\n",
    "# sys.path.append(\"C:\\\\Users\\\\Ryan\\\\Desktop\\\\Final Year Project\\\\ddnn-master\\\\ddnn-master\\\\chainer_sequential\")\n",
    "print(\"Path: \", sys.path)"
   ]
  },
  {
   "cell_type": "code",
   "execution_count": 2,
   "id": "6f533647",
   "metadata": {
    "scrolled": true
   },
   "outputs": [],
   "source": [
    "import os\n",
    "import sys\n",
    "import chainer\n",
    "\n",
    "from elaas.elaas import Collection\n",
    "from elaas.family.binary import BinaryFamily\n",
    "from visualize import visualize\n",
    "import deepopt.chooser"
   ]
  },
  {
   "cell_type": "code",
   "execution_count": 3,
   "id": "4f438c5e-c556-44db-b35f-18b53be5cf71",
   "metadata": {},
   "outputs": [],
   "source": [
    "# Configuration\n",
    "nepochs = 2 # number of epochs\n",
    "out_c_file = \"simple_convpool.h\""
   ]
  },
  {
   "cell_type": "code",
   "execution_count": 4,
   "id": "ef2056a9-b174-477a-8053-576ba35e56b4",
   "metadata": {},
   "outputs": [],
   "source": [
    "# Setup model type (e.g. Binary)\n",
    "trainer = Collection(nepochs=nepochs)\n",
    "trainer.set_model_family(BinaryFamily)"
   ]
  },
  {
   "cell_type": "code",
   "execution_count": 5,
   "id": "ee4bcba3-304c-44cd-9ba8-899b03e81bc2",
   "metadata": {},
   "outputs": [],
   "source": [
    "# Get Dataset\n",
    "train, test = chainer.datasets.get_mnist(ndim=3)\n",
    "trainer.add_trainset(train)\n",
    "trainer.add_testset(test)"
   ]
  },
  {
   "cell_type": "code",
   "execution_count": 6,
   "id": "a8547446-2439-4317-96c3-a8f0cb6436c2",
   "metadata": {
    "scrolled": true
   },
   "outputs": [
    {
     "name": "stdout",
     "output_type": "stream",
     "text": [
      "Train len =  60000\n",
      "Test len =  10000\n"
     ]
    }
   ],
   "source": [
    "print(\"Train len = \", train.__len__())\n",
    "print(\"Test len = \", test.__len__())"
   ]
  },
  {
   "cell_type": "code",
   "execution_count": 7,
   "id": "bbcbc758-05f3-48b2-933c-947bb52cdfdd",
   "metadata": {},
   "outputs": [],
   "source": [
    "# Model parameters\n",
    "trainer.set_searchspace(\n",
    "    nfilters_embeded=[2],\n",
    "    nlayers_embeded=[1],\n",
    "    lr=[1e-3]\n",
    ")"
   ]
  },
  {
   "cell_type": "code",
   "execution_count": 8,
   "id": "c90d6595-2864-4da7-b275-4368c64a12b3",
   "metadata": {
    "scrolled": true
   },
   "outputs": [
    {
     "ename": "RuntimeError",
     "evalue": "CUDA environment is not correctly set up\n(see https://github.com/chainer/chainer#installation).No module named 'cupy'",
     "output_type": "error",
     "traceback": [
      "\u001b[1;31m---------------------------------------------------------------------------\u001b[0m",
      "\u001b[1;31mRuntimeError\u001b[0m                              Traceback (most recent call last)",
      "Cell \u001b[1;32mIn[8], line 2\u001b[0m\n\u001b[0;32m      1\u001b[0m \u001b[38;5;66;03m# Train model\u001b[39;00m\n\u001b[1;32m----> 2\u001b[0m trainer\u001b[38;5;241m.\u001b[39mtrain()\n",
      "File \u001b[1;32m~\\Desktop\\Final Year Project\\ddnn-master\\ddnn-master\\elaas\\elaas.py:81\u001b[0m, in \u001b[0;36mCollection.train\u001b[1;34m(self, niters, bootstrap_nepochs)\u001b[0m\n\u001b[0;32m     78\u001b[0m \u001b[38;5;28;01mif\u001b[39;00m \u001b[38;5;28mself\u001b[39m\u001b[38;5;241m.\u001b[39mverbose:\n\u001b[0;32m     79\u001b[0m     \u001b[38;5;28mprint\u001b[39m(\u001b[38;5;124m'\u001b[39m\u001b[38;5;124mBootstrap: \u001b[39m\u001b[38;5;132;01m{}\u001b[39;00m\u001b[38;5;124m'\u001b[39m\u001b[38;5;241m.\u001b[39mformat(point))\n\u001b[1;32m---> 81\u001b[0m trainer, model, chain \u001b[38;5;241m=\u001b[39m \u001b[38;5;28mself\u001b[39m\u001b[38;5;241m.\u001b[39mfamily\u001b[38;5;241m.\u001b[39mtrain_model(\u001b[38;5;28mself\u001b[39m\u001b[38;5;241m.\u001b[39mtrainset, \u001b[38;5;28mself\u001b[39m\u001b[38;5;241m.\u001b[39mtestset, \u001b[38;5;241m*\u001b[39m\u001b[38;5;241m*\u001b[39mpoint)\n\u001b[0;32m     83\u001b[0m \u001b[38;5;66;03m# re-evaluate the result, TODO: reeval from previous epoch as well\u001b[39;00m\n\u001b[0;32m     84\u001b[0m result \u001b[38;5;241m=\u001b[39m trainer\u001b[38;5;241m.\u001b[39mevaluate()\n",
      "File \u001b[1;32m~\\Desktop\\Final Year Project\\ddnn-master\\ddnn-master\\elaas\\family\\binary.py:79\u001b[0m, in \u001b[0;36mBinaryFamily.train_model\u001b[1;34m(self, trainset, testset, **kwargs)\u001b[0m\n\u001b[0;32m     76\u001b[0m nepochs \u001b[38;5;241m=\u001b[39m \u001b[38;5;28mint\u001b[39m(kwargs\u001b[38;5;241m.\u001b[39mget(\u001b[38;5;124m\"\u001b[39m\u001b[38;5;124mnepochs\u001b[39m\u001b[38;5;124m\"\u001b[39m, \u001b[38;5;241m2\u001b[39m))\n\u001b[0;32m     77\u001b[0m name \u001b[38;5;241m=\u001b[39m \u001b[38;5;28mself\u001b[39m\u001b[38;5;241m.\u001b[39mget_name(\u001b[38;5;241m*\u001b[39m\u001b[38;5;241m*\u001b[39mkwargs)\n\u001b[1;32m---> 79\u001b[0m trainer \u001b[38;5;241m=\u001b[39m Trainer(\u001b[38;5;124m'\u001b[39m\u001b[38;5;132;01m{}\u001b[39;00m\u001b[38;5;124m/\u001b[39m\u001b[38;5;132;01m{}\u001b[39;00m\u001b[38;5;124m'\u001b[39m\u001b[38;5;241m.\u001b[39mformat(\u001b[38;5;28mself\u001b[39m\u001b[38;5;241m.\u001b[39mfolder,name), chain, trainset,\n\u001b[0;32m     80\u001b[0m                   testset, nepoch\u001b[38;5;241m=\u001b[39mnepochs, resume\u001b[38;5;241m=\u001b[39m\u001b[38;5;28;01mTrue\u001b[39;00m)\n\u001b[0;32m     81\u001b[0m trainer\u001b[38;5;241m.\u001b[39mrun()\n\u001b[0;32m     83\u001b[0m \u001b[38;5;28;01mreturn\u001b[39;00m trainer, model, chain\n",
      "File \u001b[1;32m~\\Desktop\\Final Year Project\\ddnn-master\\ddnn-master\\deepopt\\trainer.py:34\u001b[0m, in \u001b[0;36mTrainer.__init__\u001b[1;34m(self, folder, chain, train, test, batchsize, resume, gpu, nepoch, reports)\u001b[0m\n\u001b[0;32m     30\u001b[0m train_iter \u001b[38;5;241m=\u001b[39m chainer\u001b[38;5;241m.\u001b[39miterators\u001b[38;5;241m.\u001b[39mSerialIterator(train, batchsize, shuffle\u001b[38;5;241m=\u001b[39m\u001b[38;5;28;01mTrue\u001b[39;00m)\n\u001b[0;32m     31\u001b[0m test_iter \u001b[38;5;241m=\u001b[39m chainer\u001b[38;5;241m.\u001b[39miterators\u001b[38;5;241m.\u001b[39mSerialIterator(test, batchsize,\n\u001b[0;32m     32\u001b[0m                                              repeat\u001b[38;5;241m=\u001b[39m\u001b[38;5;28;01mFalse\u001b[39;00m, shuffle\u001b[38;5;241m=\u001b[39m\u001b[38;5;28;01mFalse\u001b[39;00m)\n\u001b[1;32m---> 34\u001b[0m updater \u001b[38;5;241m=\u001b[39m training\u001b[38;5;241m.\u001b[39mStandardUpdater(train_iter, chain\u001b[38;5;241m.\u001b[39moptimizer, device\u001b[38;5;241m=\u001b[39mgpu)\n\u001b[0;32m     35\u001b[0m trainer \u001b[38;5;241m=\u001b[39m training\u001b[38;5;241m.\u001b[39mTrainer(updater, (nepoch, \u001b[38;5;124m'\u001b[39m\u001b[38;5;124mepoch\u001b[39m\u001b[38;5;124m'\u001b[39m), out\u001b[38;5;241m=\u001b[39mfolder)\n\u001b[0;32m     36\u001b[0m \u001b[38;5;66;03m# trainer.extend(TrainingModeSwitch(chain))\u001b[39;00m\n",
      "File \u001b[1;32m~\\anaconda3\\Lib\\site-packages\\chainer\\training\\updaters\\standard_updater.py:87\u001b[0m, in \u001b[0;36mStandardUpdater.__init__\u001b[1;34m(self, iterator, optimizer, converter, device, loss_func, loss_scale, auto_new_epoch, **kwargs)\u001b[0m\n\u001b[0;32m     83\u001b[0m input_device, \u001b[38;5;241m=\u001b[39m argument\u001b[38;5;241m.\u001b[39mparse_kwargs(\n\u001b[0;32m     84\u001b[0m     kwargs, (\u001b[38;5;124m'\u001b[39m\u001b[38;5;124minput_device\u001b[39m\u001b[38;5;124m'\u001b[39m, \u001b[38;5;28;01mNone\u001b[39;00m))\n\u001b[0;32m     86\u001b[0m \u001b[38;5;28;01mif\u001b[39;00m device \u001b[38;5;129;01mis\u001b[39;00m \u001b[38;5;129;01mnot\u001b[39;00m \u001b[38;5;28;01mNone\u001b[39;00m:\n\u001b[1;32m---> 87\u001b[0m     device \u001b[38;5;241m=\u001b[39m chainer\u001b[38;5;241m.\u001b[39mget_device(device)\n\u001b[0;32m     89\u001b[0m \u001b[38;5;66;03m# input_device falls back to device\u001b[39;00m\n\u001b[0;32m     90\u001b[0m \u001b[38;5;28;01mif\u001b[39;00m input_device \u001b[38;5;129;01mis\u001b[39;00m \u001b[38;5;28;01mNone\u001b[39;00m:\n",
      "File \u001b[1;32m~\\anaconda3\\Lib\\site-packages\\chainer\\backend.py:134\u001b[0m, in \u001b[0;36mget_device\u001b[1;34m(device_spec)\u001b[0m\n\u001b[0;32m    131\u001b[0m     \u001b[38;5;28;01mreturn\u001b[39;00m device_spec\n\u001b[0;32m    133\u001b[0m \u001b[38;5;28;01mif\u001b[39;00m \u001b[38;5;28misinstance\u001b[39m(device_spec, cuda\u001b[38;5;241m.\u001b[39m_integer_types):\n\u001b[1;32m--> 134\u001b[0m     \u001b[38;5;28;01mreturn\u001b[39;00m _get_device_cupy_or_numpy(device_spec)\n\u001b[0;32m    136\u001b[0m \u001b[38;5;28;01mif\u001b[39;00m chainerx\u001b[38;5;241m.\u001b[39mis_available() \u001b[38;5;129;01mand\u001b[39;00m \u001b[38;5;28misinstance\u001b[39m(device_spec, chainerx\u001b[38;5;241m.\u001b[39mDevice):\n\u001b[0;32m    137\u001b[0m     \u001b[38;5;28;01mreturn\u001b[39;00m _chainerx\u001b[38;5;241m.\u001b[39mChainerxDevice(device_spec)\n",
      "File \u001b[1;32m~\\anaconda3\\Lib\\site-packages\\chainer\\backend.py:188\u001b[0m, in \u001b[0;36m_get_device_cupy_or_numpy\u001b[1;34m(device_spec)\u001b[0m\n\u001b[0;32m    185\u001b[0m \u001b[38;5;28;01mdef\u001b[39;00m \u001b[38;5;21m_get_device_cupy_or_numpy\u001b[39m(device_spec):\n\u001b[0;32m    186\u001b[0m     \u001b[38;5;66;03m# legacy spec of (gpu) device\u001b[39;00m\n\u001b[0;32m    187\u001b[0m     \u001b[38;5;28;01mif\u001b[39;00m device_spec \u001b[38;5;241m>\u001b[39m\u001b[38;5;241m=\u001b[39m \u001b[38;5;241m0\u001b[39m:\n\u001b[1;32m--> 188\u001b[0m         \u001b[38;5;28;01mreturn\u001b[39;00m cuda\u001b[38;5;241m.\u001b[39mGpuDevice\u001b[38;5;241m.\u001b[39mfrom_device_id(device_spec)\n\u001b[0;32m    189\u001b[0m     \u001b[38;5;28;01melse\u001b[39;00m:\n\u001b[0;32m    190\u001b[0m         \u001b[38;5;28;01mreturn\u001b[39;00m _cpu\u001b[38;5;241m.\u001b[39mCpuDevice()\n",
      "File \u001b[1;32m~\\anaconda3\\Lib\\site-packages\\chainer\\backends\\cuda.py:236\u001b[0m, in \u001b[0;36mGpuDevice.from_device_id\u001b[1;34m(device_id)\u001b[0m\n\u001b[0;32m    231\u001b[0m     \u001b[38;5;129m@staticmethod\u001b[39m\n\u001b[0;32m    232\u001b[0m     \u001b[38;5;28;01mdef\u001b[39;00m \u001b[38;5;21mfrom_device_id\u001b[39m(device_id):\n\u001b[0;32m    233\u001b[0m \u001b[38;5;250m        \u001b[39m\u001b[38;5;124;03m\"\"\"Returns a :class:`~chainer.backend.GpuDevice` corresponding \\\u001b[39;00m\n\u001b[0;32m    234\u001b[0m \u001b[38;5;124;03mto the CUDA device ID.\u001b[39;00m\n\u001b[0;32m    235\u001b[0m \u001b[38;5;124;03m        \"\"\"\u001b[39;00m\n\u001b[1;32m--> 236\u001b[0m         check_cuda_available()\n\u001b[0;32m    238\u001b[0m         \u001b[38;5;28;01mif\u001b[39;00m \u001b[38;5;129;01mnot\u001b[39;00m (\u001b[38;5;28misinstance\u001b[39m(device_id, _integer_types) \u001b[38;5;129;01mand\u001b[39;00m device_id \u001b[38;5;241m>\u001b[39m\u001b[38;5;241m=\u001b[39m \u001b[38;5;241m0\u001b[39m):\n\u001b[0;32m    239\u001b[0m             \u001b[38;5;28;01mraise\u001b[39;00m \u001b[38;5;167;01mValueError\u001b[39;00m(\u001b[38;5;124m'\u001b[39m\u001b[38;5;124mInvalid CUDA device ID: \u001b[39m\u001b[38;5;132;01m{}\u001b[39;00m\u001b[38;5;124m'\u001b[39m\u001b[38;5;241m.\u001b[39mformat(device_id))\n",
      "File \u001b[1;32m~\\anaconda3\\Lib\\site-packages\\chainer\\backends\\cuda.py:150\u001b[0m, in \u001b[0;36mcheck_cuda_available\u001b[1;34m()\u001b[0m\n\u001b[0;32m    147\u001b[0m     msg \u001b[38;5;241m=\u001b[39m (\u001b[38;5;124m'\u001b[39m\u001b[38;5;124mCUDA environment is not correctly set up\u001b[39m\u001b[38;5;130;01m\\n\u001b[39;00m\u001b[38;5;124m'\u001b[39m\n\u001b[0;32m    148\u001b[0m            \u001b[38;5;124m'\u001b[39m\u001b[38;5;124m(see https://github.com/chainer/chainer#installation).\u001b[39m\u001b[38;5;124m'\u001b[39m)\n\u001b[0;32m    149\u001b[0m     msg \u001b[38;5;241m+\u001b[39m\u001b[38;5;241m=\u001b[39m \u001b[38;5;28mstr\u001b[39m(_resolution_error)\n\u001b[1;32m--> 150\u001b[0m     \u001b[38;5;28;01mraise\u001b[39;00m \u001b[38;5;167;01mRuntimeError\u001b[39;00m(msg)\n\u001b[0;32m    151\u001b[0m \u001b[38;5;28;01mif\u001b[39;00m (\u001b[38;5;129;01mnot\u001b[39;00m cudnn_enabled \u001b[38;5;129;01mand\u001b[39;00m\n\u001b[0;32m    152\u001b[0m         \u001b[38;5;129;01mnot\u001b[39;00m _cudnn_disabled_by_user \u001b[38;5;129;01mand\u001b[39;00m\n\u001b[0;32m    153\u001b[0m         \u001b[38;5;129;01mnot\u001b[39;00m \u001b[38;5;28mgetattr\u001b[39m(check_cuda_available, \u001b[38;5;124m'\u001b[39m\u001b[38;5;124m_already_warned\u001b[39m\u001b[38;5;124m'\u001b[39m, \u001b[38;5;28;01mFalse\u001b[39;00m)):\n\u001b[0;32m    154\u001b[0m     warnings\u001b[38;5;241m.\u001b[39mwarn(\n\u001b[0;32m    155\u001b[0m         \u001b[38;5;124m'\u001b[39m\u001b[38;5;124mcuDNN is not enabled.\u001b[39m\u001b[38;5;130;01m\\n\u001b[39;00m\u001b[38;5;124m'\u001b[39m\n\u001b[0;32m    156\u001b[0m         \u001b[38;5;124m'\u001b[39m\u001b[38;5;124mPlease reinstall CuPy after you install cudnn\u001b[39m\u001b[38;5;130;01m\\n\u001b[39;00m\u001b[38;5;124m'\u001b[39m\n\u001b[0;32m    157\u001b[0m         \u001b[38;5;124m'\u001b[39m\u001b[38;5;124m(see https://docs-cupy.chainer.org/en/stable/install.html\u001b[39m\u001b[38;5;124m'\u001b[39m\n\u001b[0;32m    158\u001b[0m         \u001b[38;5;124m'\u001b[39m\u001b[38;5;124m#install-cudnn).\u001b[39m\u001b[38;5;124m'\u001b[39m)\n",
      "\u001b[1;31mRuntimeError\u001b[0m: CUDA environment is not correctly set up\n(see https://github.com/chainer/chainer#installation).No module named 'cupy'"
     ]
    }
   ],
   "source": [
    "# Train model\n",
    "trainer.train()"
   ]
  },
  {
   "cell_type": "code",
   "execution_count": null,
   "id": "1f76de8f",
   "metadata": {},
   "outputs": [],
   "source": [
    "# generate eBNN C library\n",
    "data_shape = train._datasets[0].shape[1:]\n",
    "trainer.generate_c(out_c_file, data_shape)\n"
   ]
  }
 ],
 "metadata": {
  "kernelspec": {
   "display_name": "Python 3 (ipykernel)",
   "language": "python",
   "name": "python3"
  },
  "language_info": {
   "codemirror_mode": {
    "name": "ipython",
    "version": 3
   },
   "file_extension": ".py",
   "mimetype": "text/x-python",
   "name": "python",
   "nbconvert_exporter": "python",
   "pygments_lexer": "ipython3",
   "version": "3.11.5"
  }
 },
 "nbformat": 4,
 "nbformat_minor": 5
}
